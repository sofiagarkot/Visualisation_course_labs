{
 "cells": [
  {
   "cell_type": "markdown",
   "metadata": {},
   "source": [
    "# Лабораторна робота №8\n",
    "## Гаркот Софія \n",
    "\n",
    "Інструкції\n",
    "\n",
    "У додатку ви знайдете файл, котрий містить дані та зображення - візуалізацію на основі цих даних\n",
    "\n",
    "Ваша задача\n",
    "\n",
    "- Ідентифікувати та описати проблеми у цій візуалізації даних (я очікую від вас текст)\n",
    "\n",
    "- Зробити альтернативний варіант презентації цих даних (я очікую від вас візуалізацію та пояснення, чому вона працює ліпше, ніж оригінальна)"
   ]
  },
  {
   "cell_type": "markdown",
   "metadata": {},
   "source": [
    "Проблеми у цій візуалізації:\n",
    "1) розмір візуалізації недостатньо великий, так що не всі елементи поміщаються і легко зчитуються\n",
    "\n",
    "2) дані по осі Х не впорядковані за певною їєрархією, тому їх складно зчитувати\n",
    "\n",
    "3) відсоткові зміни в певних секторах не зчитуються легко, так що читачеві доводиться вдаватись до \"ментальної арифметики\" віднімаючи по осі у відповідні відсотки\n",
    "\n",
    "4) грубою помилкою є і те, що власне візуалізація не відповідає на поставлене завдання -- дуже складно порівняти зміни у, скажімо, промисловості у 2010 році в порівнянні з 2017, коли обидва не виходять по осі у з однієї точки. \n",
    "\n",
    "5) Графік не дає читачеві певних висновків та не ілюструє відповіді на поставлене питання -- складно зробити висновки про зміну структури ВДВ. \n",
    "\n",
    "Ідеї для покращення залежать від мети візуалізації: чи є вона в тому, щоб показати відсоткову зміну структури порівнюючи 2010 з 2017 чи показати як кожен з регіонів змінював структуру ВДВ, ичи загальни тренд по Україні. \n",
    "\n",
    "\n",
    "найкраще було б зробити мапу і прив'язану до неї гістограму по кожному з сегментів ооой щось занадто складно чи ні?\n",
    "\n",
    "або ж зробити 24 пай чартів\n",
    "\n",
    "або ж пройти тест з ФДА\n",
    "\n",
    "або ж пай чарт з випадним вікном з яким можна фільтрувати\n"
   ]
  },
  {
   "cell_type": "code",
   "execution_count": 1,
   "metadata": {},
   "outputs": [
    {
     "data": {
      "text/plain": [
       "RendererRegistry.enable('altair_viewer')"
      ]
     },
     "execution_count": 1,
     "metadata": {},
     "output_type": "execute_result"
    }
   ],
   "source": [
    "import pandas as pd\n",
    "import altair as alt\n",
    "import altair_viewer\n",
    "\n",
    "alt.renderers.enable('altair_viewer')"
   ]
  },
  {
   "cell_type": "code",
   "execution_count": 2,
   "metadata": {},
   "outputs": [
    {
     "data": {
      "text/html": [
       "<div>\n",
       "<style scoped>\n",
       "    .dataframe tbody tr th:only-of-type {\n",
       "        vertical-align: middle;\n",
       "    }\n",
       "\n",
       "    .dataframe tbody tr th {\n",
       "        vertical-align: top;\n",
       "    }\n",
       "\n",
       "    .dataframe thead th {\n",
       "        text-align: right;\n",
       "    }\n",
       "</style>\n",
       "<table border=\"1\" class=\"dataframe\">\n",
       "  <thead>\n",
       "    <tr style=\"text-align: right;\">\n",
       "      <th></th>\n",
       "      <th>Регіон, рік</th>\n",
       "      <th>сільське господарство</th>\n",
       "      <th>промисловість</th>\n",
       "      <th>будівництво</th>\n",
       "      <th>послуги</th>\n",
       "      <th>державне управління</th>\n",
       "    </tr>\n",
       "  </thead>\n",
       "  <tbody>\n",
       "    <tr>\n",
       "      <th>0</th>\n",
       "      <td>Україна, 2010</td>\n",
       "      <td>8.3</td>\n",
       "      <td>25.9</td>\n",
       "      <td>3.3</td>\n",
       "      <td>57.3</td>\n",
       "      <td>5.2</td>\n",
       "    </tr>\n",
       "    <tr>\n",
       "      <th>1</th>\n",
       "      <td>Україна, 2017</td>\n",
       "      <td>12.1</td>\n",
       "      <td>25.2</td>\n",
       "      <td>2.5</td>\n",
       "      <td>53.7</td>\n",
       "      <td>6.5</td>\n",
       "    </tr>\n",
       "    <tr>\n",
       "      <th>2</th>\n",
       "      <td>Вінницька, 2010</td>\n",
       "      <td>21.6</td>\n",
       "      <td>19.3</td>\n",
       "      <td>4.1</td>\n",
       "      <td>47.4</td>\n",
       "      <td>7.6</td>\n",
       "    </tr>\n",
       "    <tr>\n",
       "      <th>3</th>\n",
       "      <td>Вінницька, 2017</td>\n",
       "      <td>28.1</td>\n",
       "      <td>21.4</td>\n",
       "      <td>2.0</td>\n",
       "      <td>39.8</td>\n",
       "      <td>8.7</td>\n",
       "    </tr>\n",
       "    <tr>\n",
       "      <th>4</th>\n",
       "      <td>Волинська, 2010</td>\n",
       "      <td>16.9</td>\n",
       "      <td>15.6</td>\n",
       "      <td>3.2</td>\n",
       "      <td>57.7</td>\n",
       "      <td>6.6</td>\n",
       "    </tr>\n",
       "  </tbody>\n",
       "</table>\n",
       "</div>"
      ],
      "text/plain": [
       "       Регіон, рік  сільське господарство  промисловість  будівництво  \\\n",
       "0    Україна, 2010                    8.3           25.9          3.3   \n",
       "1    Україна, 2017                   12.1           25.2          2.5   \n",
       "2  Вінницька, 2010                   21.6           19.3          4.1   \n",
       "3  Вінницька, 2017                   28.1           21.4          2.0   \n",
       "4  Волинська, 2010                   16.9           15.6          3.2   \n",
       "\n",
       "   послуги  державне управління  \n",
       "0     57.3                  5.2  \n",
       "1     53.7                  6.5  \n",
       "2     47.4                  7.6  \n",
       "3     39.8                  8.7  \n",
       "4     57.7                  6.6  "
      ]
     },
     "execution_count": 2,
     "metadata": {},
     "output_type": "execute_result"
    }
   ],
   "source": [
    "data = pd.read_excel(\"1.4_02.xlsx\")\n",
    "data.head()"
   ]
  },
  {
   "cell_type": "code",
   "execution_count": 3,
   "metadata": {},
   "outputs": [
    {
     "data": {
      "text/html": [
       "<div>\n",
       "<style scoped>\n",
       "    .dataframe tbody tr th:only-of-type {\n",
       "        vertical-align: middle;\n",
       "    }\n",
       "\n",
       "    .dataframe tbody tr th {\n",
       "        vertical-align: top;\n",
       "    }\n",
       "\n",
       "    .dataframe thead th {\n",
       "        text-align: right;\n",
       "    }\n",
       "</style>\n",
       "<table border=\"1\" class=\"dataframe\">\n",
       "  <thead>\n",
       "    <tr style=\"text-align: right;\">\n",
       "      <th></th>\n",
       "      <th>Регіон, рік</th>\n",
       "      <th>сільське господарство</th>\n",
       "      <th>промисловість</th>\n",
       "      <th>будівництво</th>\n",
       "      <th>послуги</th>\n",
       "      <th>державне управління</th>\n",
       "      <th>region</th>\n",
       "      <th>years</th>\n",
       "    </tr>\n",
       "  </thead>\n",
       "  <tbody>\n",
       "    <tr>\n",
       "      <th>0</th>\n",
       "      <td>Україна, 2010</td>\n",
       "      <td>8.3</td>\n",
       "      <td>25.9</td>\n",
       "      <td>3.3</td>\n",
       "      <td>57.3</td>\n",
       "      <td>5.2</td>\n",
       "      <td>Україна</td>\n",
       "      <td>2010</td>\n",
       "    </tr>\n",
       "    <tr>\n",
       "      <th>1</th>\n",
       "      <td>Україна, 2017</td>\n",
       "      <td>12.1</td>\n",
       "      <td>25.2</td>\n",
       "      <td>2.5</td>\n",
       "      <td>53.7</td>\n",
       "      <td>6.5</td>\n",
       "      <td>Україна</td>\n",
       "      <td>2017</td>\n",
       "    </tr>\n",
       "    <tr>\n",
       "      <th>2</th>\n",
       "      <td>Вінницька, 2010</td>\n",
       "      <td>21.6</td>\n",
       "      <td>19.3</td>\n",
       "      <td>4.1</td>\n",
       "      <td>47.4</td>\n",
       "      <td>7.6</td>\n",
       "      <td>Вінницька</td>\n",
       "      <td>2010</td>\n",
       "    </tr>\n",
       "    <tr>\n",
       "      <th>3</th>\n",
       "      <td>Вінницька, 2017</td>\n",
       "      <td>28.1</td>\n",
       "      <td>21.4</td>\n",
       "      <td>2.0</td>\n",
       "      <td>39.8</td>\n",
       "      <td>8.7</td>\n",
       "      <td>Вінницька</td>\n",
       "      <td>2017</td>\n",
       "    </tr>\n",
       "    <tr>\n",
       "      <th>4</th>\n",
       "      <td>Волинська, 2010</td>\n",
       "      <td>16.9</td>\n",
       "      <td>15.6</td>\n",
       "      <td>3.2</td>\n",
       "      <td>57.7</td>\n",
       "      <td>6.6</td>\n",
       "      <td>Волинська</td>\n",
       "      <td>2010</td>\n",
       "    </tr>\n",
       "  </tbody>\n",
       "</table>\n",
       "</div>"
      ],
      "text/plain": [
       "       Регіон, рік  сільське господарство  промисловість  будівництво  \\\n",
       "0    Україна, 2010                    8.3           25.9          3.3   \n",
       "1    Україна, 2017                   12.1           25.2          2.5   \n",
       "2  Вінницька, 2010                   21.6           19.3          4.1   \n",
       "3  Вінницька, 2017                   28.1           21.4          2.0   \n",
       "4  Волинська, 2010                   16.9           15.6          3.2   \n",
       "\n",
       "   послуги  державне управління     region  years  \n",
       "0     57.3                  5.2    Україна   2010  \n",
       "1     53.7                  6.5    Україна   2017  \n",
       "2     47.4                  7.6  Вінницька   2010  \n",
       "3     39.8                  8.7  Вінницька   2017  \n",
       "4     57.7                  6.6  Волинська   2010  "
      ]
     },
     "execution_count": 3,
     "metadata": {},
     "output_type": "execute_result"
    }
   ],
   "source": [
    "regions = []\n",
    "years = []\n",
    "for i, r in data.iterrows():\n",
    "    region = r['Регіон, рік'].split(',')[0]\n",
    "    year = r['Регіон, рік'].split(',')[1]\n",
    "    \n",
    "    regions.append(region)\n",
    "    years.append(year)\n",
    "    \n",
    "data['region'] = regions\n",
    "data['years'] = years\n",
    "data.head()"
   ]
  },
  {
   "cell_type": "code",
   "execution_count": 19,
   "metadata": {},
   "outputs": [
    {
     "data": {
      "text/plain": [
       "['сільське господарство',\n",
       " 'промисловість',\n",
       " 'будівництво',\n",
       " 'послуги',\n",
       " 'державне управління']"
      ]
     },
     "execution_count": 19,
     "metadata": {},
     "output_type": "execute_result"
    }
   ],
   "source": [
    "data.keys().to_list()[1:-2]"
   ]
  },
  {
   "cell_type": "code",
   "execution_count": 74,
   "metadata": {},
   "outputs": [],
   "source": [
    "new_df = {'region':[], 'year':[], 'keys__':[], 'values__':[], 'str_values__':[]}\n",
    "k = data.keys().to_list()[1:-2]\n",
    "for i, r in data.iterrows():\n",
    "    total = sum([r[i] for i in k])\n",
    "    for i in range(len(k)):\n",
    "        new_df['region'].append(r['region'])\n",
    "        new_df['year'].append(r['years'].strip())\n",
    "        new_df['keys__'].append(k[i])\n",
    "        new_df['values__'].append(r[k[i]]/total*100)\n",
    "        new_df['str_values__'].append(str(round(r[k[i]]/total*100))+'%')\n",
    "    "
   ]
  },
  {
   "cell_type": "code",
   "execution_count": 72,
   "metadata": {},
   "outputs": [
    {
     "data": {
      "text/html": [
       "<div>\n",
       "<style scoped>\n",
       "    .dataframe tbody tr th:only-of-type {\n",
       "        vertical-align: middle;\n",
       "    }\n",
       "\n",
       "    .dataframe tbody tr th {\n",
       "        vertical-align: top;\n",
       "    }\n",
       "\n",
       "    .dataframe thead th {\n",
       "        text-align: right;\n",
       "    }\n",
       "</style>\n",
       "<table border=\"1\" class=\"dataframe\">\n",
       "  <thead>\n",
       "    <tr style=\"text-align: right;\">\n",
       "      <th></th>\n",
       "      <th>region</th>\n",
       "      <th>year</th>\n",
       "      <th>keys__</th>\n",
       "      <th>values__</th>\n",
       "      <th>str_values__</th>\n",
       "    </tr>\n",
       "  </thead>\n",
       "  <tbody>\n",
       "    <tr>\n",
       "      <th>0</th>\n",
       "      <td>Україна</td>\n",
       "      <td>2010</td>\n",
       "      <td>сільське господарство</td>\n",
       "      <td>8.3</td>\n",
       "      <td>8%</td>\n",
       "    </tr>\n",
       "    <tr>\n",
       "      <th>1</th>\n",
       "      <td>Україна</td>\n",
       "      <td>2010</td>\n",
       "      <td>промисловість</td>\n",
       "      <td>25.9</td>\n",
       "      <td>26%</td>\n",
       "    </tr>\n",
       "    <tr>\n",
       "      <th>2</th>\n",
       "      <td>Україна</td>\n",
       "      <td>2010</td>\n",
       "      <td>будівництво</td>\n",
       "      <td>3.3</td>\n",
       "      <td>3%</td>\n",
       "    </tr>\n",
       "    <tr>\n",
       "      <th>3</th>\n",
       "      <td>Україна</td>\n",
       "      <td>2010</td>\n",
       "      <td>послуги</td>\n",
       "      <td>57.3</td>\n",
       "      <td>57%</td>\n",
       "    </tr>\n",
       "    <tr>\n",
       "      <th>4</th>\n",
       "      <td>Україна</td>\n",
       "      <td>2010</td>\n",
       "      <td>державне управління</td>\n",
       "      <td>5.2</td>\n",
       "      <td>5%</td>\n",
       "    </tr>\n",
       "  </tbody>\n",
       "</table>\n",
       "</div>"
      ],
      "text/plain": [
       "    region  year                 keys__  values__ str_values__\n",
       "0  Україна  2010  сільське господарство       8.3           8%\n",
       "1  Україна  2010          промисловість      25.9          26%\n",
       "2  Україна  2010            будівництво       3.3           3%\n",
       "3  Україна  2010                послуги      57.3          57%\n",
       "4  Україна  2010    державне управління       5.2           5%"
      ]
     },
     "execution_count": 72,
     "metadata": {},
     "output_type": "execute_result"
    }
   ],
   "source": [
    "df = pd.DataFrame(new_df)\n",
    "df.head()"
   ]
  },
  {
   "cell_type": "code",
   "execution_count": 75,
   "metadata": {},
   "outputs": [
    {
     "data": {
      "text/plain": [
       "{'2010', '2017'}"
      ]
     },
     "execution_count": 75,
     "metadata": {},
     "output_type": "execute_result"
    }
   ],
   "source": [
    "set(df['year'])"
   ]
  },
  {
   "cell_type": "code",
   "execution_count": 76,
   "metadata": {},
   "outputs": [
    {
     "data": {
      "text/html": [
       "<div>\n",
       "<style scoped>\n",
       "    .dataframe tbody tr th:only-of-type {\n",
       "        vertical-align: middle;\n",
       "    }\n",
       "\n",
       "    .dataframe tbody tr th {\n",
       "        vertical-align: top;\n",
       "    }\n",
       "\n",
       "    .dataframe thead th {\n",
       "        text-align: right;\n",
       "    }\n",
       "</style>\n",
       "<table border=\"1\" class=\"dataframe\">\n",
       "  <thead>\n",
       "    <tr style=\"text-align: right;\">\n",
       "      <th></th>\n",
       "      <th>region</th>\n",
       "      <th>year</th>\n",
       "      <th>keys__</th>\n",
       "      <th>values__</th>\n",
       "      <th>str_values__</th>\n",
       "    </tr>\n",
       "  </thead>\n",
       "  <tbody>\n",
       "    <tr>\n",
       "      <th>60</th>\n",
       "      <td>Закарпатська</td>\n",
       "      <td>2010</td>\n",
       "      <td>сільське господарство</td>\n",
       "      <td>13.4</td>\n",
       "      <td>13%</td>\n",
       "    </tr>\n",
       "    <tr>\n",
       "      <th>61</th>\n",
       "      <td>Закарпатська</td>\n",
       "      <td>2010</td>\n",
       "      <td>промисловість</td>\n",
       "      <td>19.0</td>\n",
       "      <td>19%</td>\n",
       "    </tr>\n",
       "    <tr>\n",
       "      <th>62</th>\n",
       "      <td>Закарпатська</td>\n",
       "      <td>2010</td>\n",
       "      <td>будівництво</td>\n",
       "      <td>3.8</td>\n",
       "      <td>4%</td>\n",
       "    </tr>\n",
       "    <tr>\n",
       "      <th>63</th>\n",
       "      <td>Закарпатська</td>\n",
       "      <td>2010</td>\n",
       "      <td>послуги</td>\n",
       "      <td>56.6</td>\n",
       "      <td>57%</td>\n",
       "    </tr>\n",
       "    <tr>\n",
       "      <th>64</th>\n",
       "      <td>Закарпатська</td>\n",
       "      <td>2010</td>\n",
       "      <td>державне управління</td>\n",
       "      <td>7.2</td>\n",
       "      <td>7%</td>\n",
       "    </tr>\n",
       "    <tr>\n",
       "      <th>65</th>\n",
       "      <td>Закарпатська</td>\n",
       "      <td>2017</td>\n",
       "      <td>сільське господарство</td>\n",
       "      <td>15.2</td>\n",
       "      <td>15%</td>\n",
       "    </tr>\n",
       "    <tr>\n",
       "      <th>66</th>\n",
       "      <td>Закарпатська</td>\n",
       "      <td>2017</td>\n",
       "      <td>промисловість</td>\n",
       "      <td>15.1</td>\n",
       "      <td>15%</td>\n",
       "    </tr>\n",
       "    <tr>\n",
       "      <th>67</th>\n",
       "      <td>Закарпатська</td>\n",
       "      <td>2017</td>\n",
       "      <td>будівництво</td>\n",
       "      <td>3.1</td>\n",
       "      <td>3%</td>\n",
       "    </tr>\n",
       "    <tr>\n",
       "      <th>68</th>\n",
       "      <td>Закарпатська</td>\n",
       "      <td>2017</td>\n",
       "      <td>послуги</td>\n",
       "      <td>57.4</td>\n",
       "      <td>57%</td>\n",
       "    </tr>\n",
       "    <tr>\n",
       "      <th>69</th>\n",
       "      <td>Закарпатська</td>\n",
       "      <td>2017</td>\n",
       "      <td>державне управління</td>\n",
       "      <td>9.2</td>\n",
       "      <td>9%</td>\n",
       "    </tr>\n",
       "  </tbody>\n",
       "</table>\n",
       "</div>"
      ],
      "text/plain": [
       "          region  year                 keys__  values__ str_values__\n",
       "60  Закарпатська  2010  сільське господарство      13.4          13%\n",
       "61  Закарпатська  2010          промисловість      19.0          19%\n",
       "62  Закарпатська  2010            будівництво       3.8           4%\n",
       "63  Закарпатська  2010                послуги      56.6          57%\n",
       "64  Закарпатська  2010    державне управління       7.2           7%\n",
       "65  Закарпатська  2017  сільське господарство      15.2          15%\n",
       "66  Закарпатська  2017          промисловість      15.1          15%\n",
       "67  Закарпатська  2017            будівництво       3.1           3%\n",
       "68  Закарпатська  2017                послуги      57.4          57%\n",
       "69  Закарпатська  2017    державне управління       9.2           9%"
      ]
     },
     "execution_count": 76,
     "metadata": {},
     "output_type": "execute_result"
    }
   ],
   "source": [
    "df[df['region'] == 'Закарпатська']"
   ]
  },
  {
   "cell_type": "code",
   "execution_count": 120,
   "metadata": {},
   "outputs": [],
   "source": [
    "input_dropdown = alt.binding_select(options = df.region.unique())\n",
    "select_region = alt.selection_single(fields = ['region'], bind = input_dropdown, empty='all', name='Choose')\n",
    "select_year = alt.selection_single(on = 'mouseover', fields = ['keys__'], nearest = False, empty = 'all')\n",
    "\n"
   ]
  },
  {
   "cell_type": "code",
   "execution_count": 142,
   "metadata": {},
   "outputs": [
    {
     "data": {
      "text/html": [
       "Displaying chart at <a href='http://localhost:22178/' target='_blank'>http://localhost:22178/</a>"
      ],
      "text/plain": [
       "Displaying chart at http://localhost:22178/"
      ]
     },
     "execution_count": 142,
     "metadata": {},
     "output_type": "execute_result"
    }
   ],
   "source": [
    "\n",
    "one = alt.Chart(df, title='Зміна структури ВДВ за регіонами: 2010 та 2017').mark_arc().encode(\n",
    "    theta=alt.Theta(field=\"values__\", type=\"quantitative\"),\n",
    "    color=alt.Color(field=\"keys__\", type=\"nominal\",title='Сфера'),\n",
    "    tooltip = [\n",
    "        alt.Tooltip('region:O', title='Регіон'),\n",
    "        alt.Tooltip('str_values__:O', title='Відсоток ВДВ')\n",
    "    ],\n",
    "    opacity = alt.condition((select_year) , alt.value(1), alt.value(0.6))\n",
    ").transform_filter(\n",
    "    select_region\n",
    ").add_selection(\n",
    "    select_region, select_year\n",
    ").properties(width = 700, height = 500)\n",
    "\n",
    "\n",
    "\n",
    "one = one.facet(facet = alt.Facet('year:N', title='Рік'), columns = 2, \n",
    "                title='Зміна структури ВДВ за регіонами: 2010 та 2017'\n",
    "               ).add_selection(\n",
    "    select_region).properties(background = '#F9F9F9', padding = 25).configure_view(strokeWidth=0)\n",
    "\n",
    "\n",
    "one\n",
    "\n",
    "# two = alt.Chart(df).mark_arc().encode(\n",
    "#     theta=alt.Theta(field=\"values__\", type=\"quantitative\"),\n",
    "#     color=alt.Color(field=\"keys__\", type=\"nominal\", scale = alt.Scale( scheme='set3')),\n",
    "#     opacity=alt.value(0.001)\n",
    "# ).properties(width = 550, height = 300)\n",
    "# one\n",
    "\n",
    "# country_map = alt.Chart(merged, title='Population trends in Ukraine').project(type = 'equalEarth'\n",
    "#     ).mark_geoshape().encode(\n",
    "#     color = alt.Color('rate:Q', title='Rate of population change'),\n",
    "#     tooltip = [\n",
    "#         alt.Tooltip('region:O', title='Region name'),\n",
    "#         alt.Tooltip('str_rate:O', title='Population increase rate in 2019')\n",
    "#     ],\n",
    "#     opacity = alt.condition((select_region_map) | (select_region_lines), alt.value(1), alt.value(0.6))\n",
    "# ).add_selection(\n",
    "#     select_region_map\n",
    "# ).properties(width = 700, height = 400)\n",
    "\n",
    "\n",
    "# side_line_plot = alt.Chart(df).mark_line().encode(\n",
    "#     x = alt.X(field='year', \n",
    "#               type='temporal'\n",
    "#              ),\n",
    "#     y = alt.Y('values__:Q'),\n",
    "#     color = alt.Color('keys__:O', scale = alt.Scale(type = 'quantize'),title='Сфера'),\n",
    "# #     detail = alt.Detail('region:N'),\n",
    "#     tooltip = [\n",
    "#         alt.Tooltip('region:O', title='Region name')\n",
    "#     ],\n",
    "#     size = alt.condition(\n",
    "#     (select_region_map) | (select_region_lines),\n",
    "#     alt.value(4),\n",
    "#     alt.value(0.2)),\n",
    "#     color = alt.condition((select_region_lines) | (select_region_map), \n",
    "#                           alt.Color('region:O', scale = alt.Scale(type = 'quantize'),title='Region name'), \n",
    "#                           alt.value(\"darkgrey\"))\n",
    "# ).add_selection(select_region_lines\n",
    "# ).properties(width = 600, height = 400)\n",
    "\n",
    "\n",
    "# alt.hconcat(country_map, \n",
    "#             side_line_plot\n",
    "#            ).configure_view(\n",
    "#     strokeWidth=0\n",
    "# )"
   ]
  },
  {
   "cell_type": "code",
   "execution_count": 108,
   "metadata": {},
   "outputs": [
    {
     "data": {
      "text/html": [
       "Displaying chart at <a href='http://localhost:22178/' target='_blank'>http://localhost:22178/</a>"
      ],
      "text/plain": [
       "Displaying chart at http://localhost:22178/"
      ]
     },
     "execution_count": 108,
     "metadata": {},
     "output_type": "execute_result"
    }
   ],
   "source": [
    "import pandas as pd\n",
    "import altair as alt\n",
    "\n",
    "source = pd.DataFrame({\"category\": [1, 2, 3, 4, 5, 6], \"value\": [4, 6, 10, 3, 7, 8]})\n",
    "\n",
    "alt.Chart(source).mark_arc().encode(\n",
    "    theta=alt.Theta(field=\"value\", type=\"quantitative\"),\n",
    "    color=alt.Color(field=\"category\", type=\"nominal\"),\n",
    ")"
   ]
  },
  {
   "cell_type": "code",
   "execution_count": 30,
   "metadata": {},
   "outputs": [
    {
     "data": {
      "text/plain": [
       "(list, numpy.int64)"
      ]
     },
     "execution_count": 30,
     "metadata": {},
     "output_type": "execute_result"
    }
   ],
   "source": [
    "type(df['values__'][0]), type(source['value'][0])"
   ]
  },
  {
   "cell_type": "code",
   "execution_count": null,
   "metadata": {},
   "outputs": [],
   "source": []
  }
 ],
 "metadata": {
  "kernelspec": {
   "display_name": "Python 3",
   "language": "python",
   "name": "python3"
  },
  "language_info": {
   "codemirror_mode": {
    "name": "ipython",
    "version": 3
   },
   "file_extension": ".py",
   "mimetype": "text/x-python",
   "name": "python",
   "nbconvert_exporter": "python",
   "pygments_lexer": "ipython3",
   "version": "3.8.3"
  }
 },
 "nbformat": 4,
 "nbformat_minor": 4
}
