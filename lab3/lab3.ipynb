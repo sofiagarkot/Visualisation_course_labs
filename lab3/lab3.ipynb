{
 "cells": [
  {
   "cell_type": "markdown",
   "metadata": {},
   "source": [
    "# Лабораторна робота №3\n",
    "## Гаркот Софія\n",
    "\n",
    "Інструкції\n",
    "Використовуючи файл `population_prospects.csv`, створіть карти, котрі відповідають на наступні питання:\n",
    "\n",
    "- В яких країнах світу населення у 2100 році буде більшим, ніж було у 2000 році, а в яких меншим?\n",
    "\n",
    "- На скільки відсотків збільшиться або зменшиться населення кожної країни у 2100 році у порівнянні з 2000 роком?\n",
    "\n",
    "- Яким буде населення країн світу у 2100 році?\n",
    "\n",
    "У наборі даних ви знайдете декілька прогнозів щодо зростання / скорочення населення країн світу (змінна `variant`). Для фактичних історичних даних (2000 рік) ви можете використовувати значення `Estimates`, для прогнозних даних (2100 рік) ви можете використовувати значення `Medium variant`.\n",
    "\n",
    "Ви можете використовувати файл `world-countries.json` або будь-який інший файл з геоданими, котрий вам підходить для цієї задачі. Ви можете використовувати будь-який доступний вам інструмент візуалізації даних.\n",
    "\n",
    "Ви маєте також у невеличкому супровідному тексті обґрунтувати вибір типу карти / типу кольорової шкали, пояснити його сильні та слабкі сторони для поставленої задачі. "
   ]
  },
  {
   "cell_type": "code",
   "execution_count": 1,
   "metadata": {},
   "outputs": [],
   "source": [
    "from tqdm import tqdm"
   ]
  },
  {
   "cell_type": "code",
   "execution_count": 2,
   "metadata": {},
   "outputs": [
    {
     "data": {
      "text/html": [
       "<div>\n",
       "<style scoped>\n",
       "    .dataframe tbody tr th:only-of-type {\n",
       "        vertical-align: middle;\n",
       "    }\n",
       "\n",
       "    .dataframe tbody tr th {\n",
       "        vertical-align: top;\n",
       "    }\n",
       "\n",
       "    .dataframe thead th {\n",
       "        text-align: right;\n",
       "    }\n",
       "</style>\n",
       "<table border=\"1\" class=\"dataframe\">\n",
       "  <thead>\n",
       "    <tr style=\"text-align: right;\">\n",
       "      <th></th>\n",
       "      <th>variant</th>\n",
       "      <th>country</th>\n",
       "      <th>country_code</th>\n",
       "      <th>parent_code</th>\n",
       "      <th>year</th>\n",
       "      <th>population</th>\n",
       "    </tr>\n",
       "  </thead>\n",
       "  <tbody>\n",
       "    <tr>\n",
       "      <th>0</th>\n",
       "      <td>Estimates</td>\n",
       "      <td>Burundi</td>\n",
       "      <td>108</td>\n",
       "      <td>910</td>\n",
       "      <td>1950</td>\n",
       "      <td>2308.927</td>\n",
       "    </tr>\n",
       "    <tr>\n",
       "      <th>1</th>\n",
       "      <td>Estimates</td>\n",
       "      <td>Comoros</td>\n",
       "      <td>174</td>\n",
       "      <td>910</td>\n",
       "      <td>1950</td>\n",
       "      <td>159.459</td>\n",
       "    </tr>\n",
       "    <tr>\n",
       "      <th>2</th>\n",
       "      <td>Estimates</td>\n",
       "      <td>Djibouti</td>\n",
       "      <td>262</td>\n",
       "      <td>910</td>\n",
       "      <td>1950</td>\n",
       "      <td>62.000</td>\n",
       "    </tr>\n",
       "    <tr>\n",
       "      <th>3</th>\n",
       "      <td>Estimates</td>\n",
       "      <td>Eritrea</td>\n",
       "      <td>232</td>\n",
       "      <td>910</td>\n",
       "      <td>1950</td>\n",
       "      <td>822.347</td>\n",
       "    </tr>\n",
       "    <tr>\n",
       "      <th>4</th>\n",
       "      <td>Estimates</td>\n",
       "      <td>Ethiopia</td>\n",
       "      <td>231</td>\n",
       "      <td>910</td>\n",
       "      <td>1950</td>\n",
       "      <td>18128.030</td>\n",
       "    </tr>\n",
       "    <tr>\n",
       "      <th>...</th>\n",
       "      <td>...</td>\n",
       "      <td>...</td>\n",
       "      <td>...</td>\n",
       "      <td>...</td>\n",
       "      <td>...</td>\n",
       "      <td>...</td>\n",
       "    </tr>\n",
       "    <tr>\n",
       "      <th>187995</th>\n",
       "      <td>No change</td>\n",
       "      <td>Bermuda</td>\n",
       "      <td>60</td>\n",
       "      <td>918</td>\n",
       "      <td>2100</td>\n",
       "      <td>28.727</td>\n",
       "    </tr>\n",
       "    <tr>\n",
       "      <th>187996</th>\n",
       "      <td>No change</td>\n",
       "      <td>Canada</td>\n",
       "      <td>124</td>\n",
       "      <td>918</td>\n",
       "      <td>2100</td>\n",
       "      <td>49443.658</td>\n",
       "    </tr>\n",
       "    <tr>\n",
       "      <th>187997</th>\n",
       "      <td>No change</td>\n",
       "      <td>Greenland</td>\n",
       "      <td>304</td>\n",
       "      <td>918</td>\n",
       "      <td>2100</td>\n",
       "      <td>41.199</td>\n",
       "    </tr>\n",
       "    <tr>\n",
       "      <th>187998</th>\n",
       "      <td>No change</td>\n",
       "      <td>Saint Pierre and Miquelon</td>\n",
       "      <td>666</td>\n",
       "      <td>918</td>\n",
       "      <td>2100</td>\n",
       "      <td>3.120</td>\n",
       "    </tr>\n",
       "    <tr>\n",
       "      <th>187999</th>\n",
       "      <td>No change</td>\n",
       "      <td>United States of America</td>\n",
       "      <td>840</td>\n",
       "      <td>918</td>\n",
       "      <td>2100</td>\n",
       "      <td>380580.865</td>\n",
       "    </tr>\n",
       "  </tbody>\n",
       "</table>\n",
       "<p>188000 rows × 6 columns</p>\n",
       "</div>"
      ],
      "text/plain": [
       "          variant                    country  country_code  parent_code  year  \\\n",
       "0       Estimates                    Burundi           108          910  1950   \n",
       "1       Estimates                    Comoros           174          910  1950   \n",
       "2       Estimates                   Djibouti           262          910  1950   \n",
       "3       Estimates                    Eritrea           232          910  1950   \n",
       "4       Estimates                   Ethiopia           231          910  1950   \n",
       "...           ...                        ...           ...          ...   ...   \n",
       "187995  No change                    Bermuda            60          918  2100   \n",
       "187996  No change                     Canada           124          918  2100   \n",
       "187997  No change                  Greenland           304          918  2100   \n",
       "187998  No change  Saint Pierre and Miquelon           666          918  2100   \n",
       "187999  No change   United States of America           840          918  2100   \n",
       "\n",
       "        population  \n",
       "0         2308.927  \n",
       "1          159.459  \n",
       "2           62.000  \n",
       "3          822.347  \n",
       "4        18128.030  \n",
       "...            ...  \n",
       "187995      28.727  \n",
       "187996   49443.658  \n",
       "187997      41.199  \n",
       "187998       3.120  \n",
       "187999  380580.865  \n",
       "\n",
       "[188000 rows x 6 columns]"
      ]
     },
     "execution_count": 2,
     "metadata": {},
     "output_type": "execute_result"
    }
   ],
   "source": [
    "import pandas as pd\n",
    "data = pd.read_csv(\"population_prospects.csv\")\n",
    "data"
   ]
  },
  {
   "cell_type": "code",
   "execution_count": 3,
   "metadata": {},
   "outputs": [
    {
     "name": "stderr",
     "output_type": "stream",
     "text": [
      "188000it [00:15, 12509.35it/s]\n"
     ]
    }
   ],
   "source": [
    "c_2000_dct = {}\n",
    "c_2100_dct = {}\n",
    "c_final_dct = {}\n",
    "\n",
    "for i, r in tqdm(data.iterrows()):\n",
    "    \n",
    "    if r['country'] in c_2000_dct.keys():\n",
    "        if r['variant'] == 'Medium variant' and r['year'] == 2100:\n",
    "            c = r['country']\n",
    "            v_2000 = c_2000_dct[c]\n",
    "            v_2100 = r['population']\n",
    "            \n",
    "            if v_2100 > v_2000:\n",
    "                indication = 1\n",
    "            else:\n",
    "                indication = 0\n",
    "                \n",
    "            percentage = 100*((v_2100-v_2000)/v_2000)\n",
    "            c_final_dct[c] = [indication, percentage, v_2100]\n",
    "    else:\n",
    "        if r['variant'] == 'Estimates' and r['year'] == 2000:\n",
    "            c_2000_dct[r['country']] = r['population']\n",
    "    \n",
    "    "
   ]
  },
  {
   "cell_type": "code",
   "execution_count": 4,
   "metadata": {},
   "outputs": [
    {
     "data": {
      "text/plain": [
       "235"
      ]
     },
     "execution_count": 4,
     "metadata": {},
     "output_type": "execute_result"
    }
   ],
   "source": [
    "len(c_final_dct)"
   ]
  },
  {
   "cell_type": "code",
   "execution_count": 5,
   "metadata": {},
   "outputs": [
    {
     "data": {
      "text/plain": [
       "RendererRegistry.enable('altair_viewer')"
      ]
     },
     "execution_count": 5,
     "metadata": {},
     "output_type": "execute_result"
    }
   ],
   "source": [
    "import altair as alt\n",
    "import pandas as pd\n",
    "import altair_viewer\n",
    "\n",
    "alt.renderers.enable('altair_viewer')\n"
   ]
  },
  {
   "cell_type": "code",
   "execution_count": 6,
   "metadata": {},
   "outputs": [
    {
     "data": {
      "text/html": [
       "<div>\n",
       "<style scoped>\n",
       "    .dataframe tbody tr th:only-of-type {\n",
       "        vertical-align: middle;\n",
       "    }\n",
       "\n",
       "    .dataframe tbody tr th {\n",
       "        vertical-align: top;\n",
       "    }\n",
       "\n",
       "    .dataframe thead th {\n",
       "        text-align: right;\n",
       "    }\n",
       "</style>\n",
       "<table border=\"1\" class=\"dataframe\">\n",
       "  <thead>\n",
       "    <tr style=\"text-align: right;\">\n",
       "      <th></th>\n",
       "      <th>id</th>\n",
       "      <th>name</th>\n",
       "      <th>geometry</th>\n",
       "    </tr>\n",
       "  </thead>\n",
       "  <tbody>\n",
       "    <tr>\n",
       "      <th>0</th>\n",
       "      <td>AFG</td>\n",
       "      <td>Afghanistan</td>\n",
       "      <td>POLYGON ((61.21082 35.65007, 62.23065 35.27066...</td>\n",
       "    </tr>\n",
       "    <tr>\n",
       "      <th>1</th>\n",
       "      <td>AGO</td>\n",
       "      <td>Angola</td>\n",
       "      <td>MULTIPOLYGON (((16.32653 -5.87747, 16.57318 -6...</td>\n",
       "    </tr>\n",
       "    <tr>\n",
       "      <th>2</th>\n",
       "      <td>ALB</td>\n",
       "      <td>Albania</td>\n",
       "      <td>POLYGON ((20.59025 41.85540, 20.46317 41.51509...</td>\n",
       "    </tr>\n",
       "    <tr>\n",
       "      <th>3</th>\n",
       "      <td>ARE</td>\n",
       "      <td>United Arab Emirates</td>\n",
       "      <td>POLYGON ((51.57952 24.24550, 51.75744 24.29407...</td>\n",
       "    </tr>\n",
       "    <tr>\n",
       "      <th>4</th>\n",
       "      <td>ARG</td>\n",
       "      <td>Argentina</td>\n",
       "      <td>MULTIPOLYGON (((-65.50000 -55.20000, -66.45000...</td>\n",
       "    </tr>\n",
       "  </tbody>\n",
       "</table>\n",
       "</div>"
      ],
      "text/plain": [
       "    id                  name  \\\n",
       "0  AFG           Afghanistan   \n",
       "1  AGO                Angola   \n",
       "2  ALB               Albania   \n",
       "3  ARE  United Arab Emirates   \n",
       "4  ARG             Argentina   \n",
       "\n",
       "                                            geometry  \n",
       "0  POLYGON ((61.21082 35.65007, 62.23065 35.27066...  \n",
       "1  MULTIPOLYGON (((16.32653 -5.87747, 16.57318 -6...  \n",
       "2  POLYGON ((20.59025 41.85540, 20.46317 41.51509...  \n",
       "3  POLYGON ((51.57952 24.24550, 51.75744 24.29407...  \n",
       "4  MULTIPOLYGON (((-65.50000 -55.20000, -66.45000...  "
      ]
     },
     "execution_count": 6,
     "metadata": {},
     "output_type": "execute_result"
    }
   ],
   "source": [
    "import geopandas as gpd\n",
    "world = gpd.read_file('world-countries.json')\n",
    "world.head()"
   ]
  },
  {
   "cell_type": "code",
   "execution_count": 7,
   "metadata": {},
   "outputs": [
    {
     "data": {
      "text/html": [
       "<div>\n",
       "<style scoped>\n",
       "    .dataframe tbody tr th:only-of-type {\n",
       "        vertical-align: middle;\n",
       "    }\n",
       "\n",
       "    .dataframe tbody tr th {\n",
       "        vertical-align: top;\n",
       "    }\n",
       "\n",
       "    .dataframe thead th {\n",
       "        text-align: right;\n",
       "    }\n",
       "</style>\n",
       "<table border=\"1\" class=\"dataframe\">\n",
       "  <thead>\n",
       "    <tr style=\"text-align: right;\">\n",
       "      <th></th>\n",
       "      <th>id</th>\n",
       "      <th>name</th>\n",
       "      <th>geometry</th>\n",
       "    </tr>\n",
       "  </thead>\n",
       "  <tbody>\n",
       "    <tr>\n",
       "      <th>0</th>\n",
       "      <td>AFG</td>\n",
       "      <td>Afghanistan</td>\n",
       "      <td>POLYGON ((61.21082 35.65007, 62.23065 35.27066...</td>\n",
       "    </tr>\n",
       "    <tr>\n",
       "      <th>1</th>\n",
       "      <td>AGO</td>\n",
       "      <td>Angola</td>\n",
       "      <td>MULTIPOLYGON (((16.32653 -5.87747, 16.57318 -6...</td>\n",
       "    </tr>\n",
       "    <tr>\n",
       "      <th>2</th>\n",
       "      <td>ALB</td>\n",
       "      <td>Albania</td>\n",
       "      <td>POLYGON ((20.59025 41.85540, 20.46317 41.51509...</td>\n",
       "    </tr>\n",
       "    <tr>\n",
       "      <th>3</th>\n",
       "      <td>ARE</td>\n",
       "      <td>United Arab Emirates</td>\n",
       "      <td>POLYGON ((51.57952 24.24550, 51.75744 24.29407...</td>\n",
       "    </tr>\n",
       "    <tr>\n",
       "      <th>4</th>\n",
       "      <td>ARG</td>\n",
       "      <td>Argentina</td>\n",
       "      <td>MULTIPOLYGON (((-65.50000 -55.20000, -66.45000...</td>\n",
       "    </tr>\n",
       "    <tr>\n",
       "      <th>...</th>\n",
       "      <td>...</td>\n",
       "      <td>...</td>\n",
       "      <td>...</td>\n",
       "    </tr>\n",
       "    <tr>\n",
       "      <th>172</th>\n",
       "      <td>PSE</td>\n",
       "      <td>West Bank</td>\n",
       "      <td>POLYGON ((35.54566 32.39399, 35.54525 31.78251...</td>\n",
       "    </tr>\n",
       "    <tr>\n",
       "      <th>173</th>\n",
       "      <td>YEM</td>\n",
       "      <td>Yemen</td>\n",
       "      <td>POLYGON ((53.10857 16.65105, 52.38521 16.38241...</td>\n",
       "    </tr>\n",
       "    <tr>\n",
       "      <th>174</th>\n",
       "      <td>ZAF</td>\n",
       "      <td>South Africa</td>\n",
       "      <td>POLYGON ((31.52100 -29.25739, 31.32556 -29.401...</td>\n",
       "    </tr>\n",
       "    <tr>\n",
       "      <th>175</th>\n",
       "      <td>ZMB</td>\n",
       "      <td>Zambia</td>\n",
       "      <td>POLYGON ((32.75937 -9.23060, 33.23139 -9.67672...</td>\n",
       "    </tr>\n",
       "    <tr>\n",
       "      <th>176</th>\n",
       "      <td>ZWE</td>\n",
       "      <td>Zimbabwe</td>\n",
       "      <td>POLYGON ((31.19141 -22.25151, 30.65986 -22.151...</td>\n",
       "    </tr>\n",
       "  </tbody>\n",
       "</table>\n",
       "<p>177 rows × 3 columns</p>\n",
       "</div>"
      ],
      "text/plain": [
       "      id                  name  \\\n",
       "0    AFG           Afghanistan   \n",
       "1    AGO                Angola   \n",
       "2    ALB               Albania   \n",
       "3    ARE  United Arab Emirates   \n",
       "4    ARG             Argentina   \n",
       "..   ...                   ...   \n",
       "172  PSE             West Bank   \n",
       "173  YEM                 Yemen   \n",
       "174  ZAF          South Africa   \n",
       "175  ZMB                Zambia   \n",
       "176  ZWE              Zimbabwe   \n",
       "\n",
       "                                              geometry  \n",
       "0    POLYGON ((61.21082 35.65007, 62.23065 35.27066...  \n",
       "1    MULTIPOLYGON (((16.32653 -5.87747, 16.57318 -6...  \n",
       "2    POLYGON ((20.59025 41.85540, 20.46317 41.51509...  \n",
       "3    POLYGON ((51.57952 24.24550, 51.75744 24.29407...  \n",
       "4    MULTIPOLYGON (((-65.50000 -55.20000, -66.45000...  \n",
       "..                                                 ...  \n",
       "172  POLYGON ((35.54566 32.39399, 35.54525 31.78251...  \n",
       "173  POLYGON ((53.10857 16.65105, 52.38521 16.38241...  \n",
       "174  POLYGON ((31.52100 -29.25739, 31.32556 -29.401...  \n",
       "175  POLYGON ((32.75937 -9.23060, 33.23139 -9.67672...  \n",
       "176  POLYGON ((31.19141 -22.25151, 30.65986 -22.151...  \n",
       "\n",
       "[177 rows x 3 columns]"
      ]
     },
     "execution_count": 7,
     "metadata": {},
     "output_type": "execute_result"
    }
   ],
   "source": [
    "world"
   ]
  },
  {
   "cell_type": "code",
   "execution_count": 8,
   "metadata": {},
   "outputs": [
    {
     "data": {
      "text/plain": [
       "(235, 177)"
      ]
     },
     "execution_count": 8,
     "metadata": {},
     "output_type": "execute_result"
    }
   ],
   "source": [
    "len(set(data.country)), len(set(world.name) )"
   ]
  },
  {
   "cell_type": "code",
   "execution_count": 9,
   "metadata": {
    "scrolled": true
   },
   "outputs": [
    {
     "data": {
      "text/plain": [
       "['China, Taiwan Province of China',\n",
       " 'Aruba',\n",
       " 'Montserrat',\n",
       " 'Falkland Islands (Malvinas)',\n",
       " 'Maldives',\n",
       " 'Bolivia (Plurinational State of)',\n",
       " 'Mauritius',\n",
       " 'Timor-Leste',\n",
       " 'Serbia',\n",
       " 'Cayman Islands',\n",
       " 'China, Hong Kong SAR',\n",
       " 'Malta',\n",
       " 'Antigua and Barbuda',\n",
       " 'Saint Pierre and Miquelon',\n",
       " 'Singapore',\n",
       " 'Cook Islands',\n",
       " 'Turks and Caicos Islands',\n",
       " 'Barbados',\n",
       " 'French Guiana',\n",
       " 'Northern Mariana Islands',\n",
       " 'Nauru',\n",
       " 'Republic of Moldova',\n",
       " 'United States Virgin Islands',\n",
       " 'Republic of Korea',\n",
       " 'Guadeloupe',\n",
       " 'Kiribati',\n",
       " 'Palau',\n",
       " 'Sao Tome and Principe',\n",
       " 'Comoros',\n",
       " 'Samoa',\n",
       " 'Tokelau',\n",
       " 'American Samoa',\n",
       " 'Bahamas',\n",
       " 'Saint Vincent and the Grenadines',\n",
       " 'Syrian Arab Republic',\n",
       " 'Bermuda',\n",
       " 'Mayotte',\n",
       " 'Saint Helena',\n",
       " 'Saint Lucia',\n",
       " 'Venezuela (Bolivarian Republic of)',\n",
       " 'Tonga',\n",
       " 'Seychelles',\n",
       " 'China, Macao SAR',\n",
       " 'Guam',\n",
       " 'Marshall Islands',\n",
       " 'Liechtenstein',\n",
       " 'Martinique',\n",
       " 'Viet Nam',\n",
       " 'Brunei Darussalam',\n",
       " 'Iran (Islamic Republic of)',\n",
       " 'Holy See',\n",
       " 'North Macedonia',\n",
       " 'Guinea-Bissau',\n",
       " 'Channel Islands',\n",
       " 'Saint Barthelemy',\n",
       " 'Tuvalu',\n",
       " 'French Polynesia',\n",
       " 'San Marino',\n",
       " 'Dominica',\n",
       " 'Micronesia (Fed. States of)',\n",
       " 'Isle of Man',\n",
       " 'Bahrain',\n",
       " \"Lao People's Democratic Republic\",\n",
       " 'Wallis and Futuna Islands',\n",
       " 'Grenada',\n",
       " 'Sint Maarten (Dutch part)',\n",
       " 'Czechia',\n",
       " \"Cote d'Ivoire\",\n",
       " \"Dem. People's Republic of Korea\",\n",
       " 'Monaco',\n",
       " 'Anguilla',\n",
       " 'Saint Kitts and Nevis',\n",
       " 'Bonaire, Sint Eustatius and Saba',\n",
       " 'Andorra',\n",
       " 'Curacao',\n",
       " 'Saint Martin (French part)',\n",
       " 'State of Palestine',\n",
       " 'Niue',\n",
       " 'Reunion',\n",
       " 'Faroe Islands',\n",
       " 'Cabo Verde',\n",
       " 'Gibraltar',\n",
       " 'British Virgin Islands',\n",
       " 'Eswatini',\n",
       " 'Congo',\n",
       " 'Russian Federation']"
      ]
     },
     "execution_count": 9,
     "metadata": {},
     "output_type": "execute_result"
    }
   ],
   "source": [
    "[i for i in set(data.country) if i not in set(world.name)]"
   ]
  },
  {
   "cell_type": "code",
   "execution_count": 10,
   "metadata": {},
   "outputs": [
    {
     "data": {
      "text/html": [
       "<div>\n",
       "<style scoped>\n",
       "    .dataframe tbody tr th:only-of-type {\n",
       "        vertical-align: middle;\n",
       "    }\n",
       "\n",
       "    .dataframe tbody tr th {\n",
       "        vertical-align: top;\n",
       "    }\n",
       "\n",
       "    .dataframe thead th {\n",
       "        text-align: right;\n",
       "    }\n",
       "</style>\n",
       "<table border=\"1\" class=\"dataframe\">\n",
       "  <thead>\n",
       "    <tr style=\"text-align: right;\">\n",
       "      <th></th>\n",
       "      <th>name</th>\n",
       "      <th>indicator</th>\n",
       "      <th>percentage</th>\n",
       "      <th>in_2100</th>\n",
       "      <th>text_indicator</th>\n",
       "      <th>text_percentage</th>\n",
       "      <th>text_2100</th>\n",
       "    </tr>\n",
       "  </thead>\n",
       "  <tbody>\n",
       "    <tr>\n",
       "      <th>0</th>\n",
       "      <td>Burundi</td>\n",
       "      <td>1</td>\n",
       "      <td>698.010682</td>\n",
       "      <td>50904.072</td>\n",
       "      <td>more</td>\n",
       "      <td>698.01 %</td>\n",
       "      <td>50904</td>\n",
       "    </tr>\n",
       "    <tr>\n",
       "      <th>1</th>\n",
       "      <td>Djibouti</td>\n",
       "      <td>1</td>\n",
       "      <td>85.576739</td>\n",
       "      <td>1331.656</td>\n",
       "      <td>more</td>\n",
       "      <td>85.58 %</td>\n",
       "      <td>1332</td>\n",
       "    </tr>\n",
       "    <tr>\n",
       "      <th>2</th>\n",
       "      <td>Eritrea</td>\n",
       "      <td>1</td>\n",
       "      <td>295.294260</td>\n",
       "      <td>9061.777</td>\n",
       "      <td>more</td>\n",
       "      <td>295.29 %</td>\n",
       "      <td>9062</td>\n",
       "    </tr>\n",
       "    <tr>\n",
       "      <th>3</th>\n",
       "      <td>Ethiopia</td>\n",
       "      <td>1</td>\n",
       "      <td>344.535677</td>\n",
       "      <td>294392.903</td>\n",
       "      <td>more</td>\n",
       "      <td>344.54 %</td>\n",
       "      <td>294393</td>\n",
       "    </tr>\n",
       "    <tr>\n",
       "      <th>4</th>\n",
       "      <td>Kenya</td>\n",
       "      <td>1</td>\n",
       "      <td>292.384149</td>\n",
       "      <td>125423.855</td>\n",
       "      <td>more</td>\n",
       "      <td>292.38 %</td>\n",
       "      <td>125424</td>\n",
       "    </tr>\n",
       "  </tbody>\n",
       "</table>\n",
       "</div>"
      ],
      "text/plain": [
       "       name  indicator  percentage     in_2100 text_indicator text_percentage  \\\n",
       "0   Burundi          1  698.010682   50904.072           more        698.01 %   \n",
       "1  Djibouti          1   85.576739    1331.656           more         85.58 %   \n",
       "2   Eritrea          1  295.294260    9061.777           more        295.29 %   \n",
       "3  Ethiopia          1  344.535677  294392.903           more        344.54 %   \n",
       "4     Kenya          1  292.384149  125423.855           more        292.38 %   \n",
       "\n",
       "  text_2100  \n",
       "0     50904  \n",
       "1      1332  \n",
       "2      9062  \n",
       "3    294393  \n",
       "4    125424  "
      ]
     },
     "execution_count": 10,
     "metadata": {},
     "output_type": "execute_result"
    }
   ],
   "source": [
    "data_to_merge = {'name':[], 'indicator':[], 'percentage':[], 'in_2100':[], 'text_indicator':[],\n",
    "                 'text_percentage':[], 'text_2100':[]}\n",
    "for c in c_final_dct:\n",
    "    if c in set(world.name):\n",
    "        d = c_final_dct[c]\n",
    "        data_to_merge['name'].append(c)\n",
    "        data_to_merge['indicator'].append(d[0])\n",
    "        if d[0] == 0:\n",
    "            data_to_merge['text_indicator'].append(\"less\")\n",
    "        else:\n",
    "            data_to_merge['text_indicator'].append(\"more\")\n",
    "        data_to_merge['percentage'].append(d[1])\n",
    "        data_to_merge['text_percentage'].append(str(round(d[1], 2))+\" %\")\n",
    "        \n",
    "        data_to_merge['in_2100'].append(d[2])\n",
    "        data_to_merge['text_2100'].append(str(round(d[2])))\n",
    "data_to_merge = pd.DataFrame(data_to_merge)\n",
    "data_to_merge.head()"
   ]
  },
  {
   "cell_type": "code",
   "execution_count": 11,
   "metadata": {},
   "outputs": [
    {
     "data": {
      "text/html": [
       "<div>\n",
       "<style scoped>\n",
       "    .dataframe tbody tr th:only-of-type {\n",
       "        vertical-align: middle;\n",
       "    }\n",
       "\n",
       "    .dataframe tbody tr th {\n",
       "        vertical-align: top;\n",
       "    }\n",
       "\n",
       "    .dataframe thead th {\n",
       "        text-align: right;\n",
       "    }\n",
       "</style>\n",
       "<table border=\"1\" class=\"dataframe\">\n",
       "  <thead>\n",
       "    <tr style=\"text-align: right;\">\n",
       "      <th></th>\n",
       "      <th>id</th>\n",
       "      <th>name</th>\n",
       "      <th>geometry</th>\n",
       "      <th>indicator</th>\n",
       "      <th>percentage</th>\n",
       "      <th>in_2100</th>\n",
       "      <th>text_indicator</th>\n",
       "      <th>text_percentage</th>\n",
       "      <th>text_2100</th>\n",
       "    </tr>\n",
       "  </thead>\n",
       "  <tbody>\n",
       "    <tr>\n",
       "      <th>0</th>\n",
       "      <td>AFG</td>\n",
       "      <td>Afghanistan</td>\n",
       "      <td>POLYGON ((61.21082 35.65007, 62.23065 35.27066...</td>\n",
       "      <td>1.0</td>\n",
       "      <td>260.626160</td>\n",
       "      <td>74937.961</td>\n",
       "      <td>more</td>\n",
       "      <td>260.63 %</td>\n",
       "      <td>74938</td>\n",
       "    </tr>\n",
       "    <tr>\n",
       "      <th>1</th>\n",
       "      <td>AGO</td>\n",
       "      <td>Angola</td>\n",
       "      <td>MULTIPOLYGON (((16.32653 -5.87747, 16.57318 -6...</td>\n",
       "      <td>1.0</td>\n",
       "      <td>1048.384594</td>\n",
       "      <td>188283.132</td>\n",
       "      <td>more</td>\n",
       "      <td>1048.38 %</td>\n",
       "      <td>188283</td>\n",
       "    </tr>\n",
       "    <tr>\n",
       "      <th>2</th>\n",
       "      <td>ALB</td>\n",
       "      <td>Albania</td>\n",
       "      <td>POLYGON ((20.59025 41.85540, 20.46317 41.51509...</td>\n",
       "      <td>0.0</td>\n",
       "      <td>-65.220440</td>\n",
       "      <td>1088.338</td>\n",
       "      <td>less</td>\n",
       "      <td>-65.22 %</td>\n",
       "      <td>1088</td>\n",
       "    </tr>\n",
       "    <tr>\n",
       "      <th>3</th>\n",
       "      <td>ARE</td>\n",
       "      <td>United Arab Emirates</td>\n",
       "      <td>POLYGON ((51.57952 24.24550, 51.75744 24.29407...</td>\n",
       "      <td>1.0</td>\n",
       "      <td>311.920645</td>\n",
       "      <td>12909.869</td>\n",
       "      <td>more</td>\n",
       "      <td>311.92 %</td>\n",
       "      <td>12910</td>\n",
       "    </tr>\n",
       "    <tr>\n",
       "      <th>4</th>\n",
       "      <td>ARG</td>\n",
       "      <td>Argentina</td>\n",
       "      <td>MULTIPOLYGON (((-65.50000 -55.20000, -66.45000...</td>\n",
       "      <td>1.0</td>\n",
       "      <td>54.058223</td>\n",
       "      <td>56802.493</td>\n",
       "      <td>more</td>\n",
       "      <td>54.06 %</td>\n",
       "      <td>56802</td>\n",
       "    </tr>\n",
       "  </tbody>\n",
       "</table>\n",
       "</div>"
      ],
      "text/plain": [
       "    id                  name  \\\n",
       "0  AFG           Afghanistan   \n",
       "1  AGO                Angola   \n",
       "2  ALB               Albania   \n",
       "3  ARE  United Arab Emirates   \n",
       "4  ARG             Argentina   \n",
       "\n",
       "                                            geometry  indicator   percentage  \\\n",
       "0  POLYGON ((61.21082 35.65007, 62.23065 35.27066...        1.0   260.626160   \n",
       "1  MULTIPOLYGON (((16.32653 -5.87747, 16.57318 -6...        1.0  1048.384594   \n",
       "2  POLYGON ((20.59025 41.85540, 20.46317 41.51509...        0.0   -65.220440   \n",
       "3  POLYGON ((51.57952 24.24550, 51.75744 24.29407...        1.0   311.920645   \n",
       "4  MULTIPOLYGON (((-65.50000 -55.20000, -66.45000...        1.0    54.058223   \n",
       "\n",
       "      in_2100 text_indicator text_percentage text_2100  \n",
       "0   74937.961           more        260.63 %     74938  \n",
       "1  188283.132           more       1048.38 %    188283  \n",
       "2    1088.338           less        -65.22 %      1088  \n",
       "3   12909.869           more        311.92 %     12910  \n",
       "4   56802.493           more         54.06 %     56802  "
      ]
     },
     "execution_count": 11,
     "metadata": {},
     "output_type": "execute_result"
    }
   ],
   "source": [
    "merged = world.merge(data_to_merge, how='left')\n",
    "merged.head()"
   ]
  },
  {
   "cell_type": "code",
   "execution_count": 12,
   "metadata": {},
   "outputs": [
    {
     "data": {
      "text/plain": [
       "(177, 9)"
      ]
     },
     "execution_count": 12,
     "metadata": {},
     "output_type": "execute_result"
    }
   ],
   "source": [
    "merged.shape"
   ]
  },
  {
   "cell_type": "code",
   "execution_count": 13,
   "metadata": {},
   "outputs": [],
   "source": [
    "import numpy as np\n",
    "average_perc = np.average(merged['percentage'].dropna())\n",
    "average_population = np.average(merged['in_2100'].dropna())\n",
    "for i, r in merged.iterrows():\n",
    "    if np.isnan(r['percentage']):\n",
    "        r['percentage'] = average_perc\n",
    "        r['in_2100'] = average_population\n",
    "        merged.iloc[i, :] = r"
   ]
  },
  {
   "cell_type": "code",
   "execution_count": 14,
   "metadata": {
    "scrolled": true
   },
   "outputs": [
    {
     "data": {
      "text/plain": [
       "{float}"
      ]
     },
     "execution_count": 14,
     "metadata": {},
     "output_type": "execute_result"
    }
   ],
   "source": [
    "set([type(i) for i in merged['percentage']])"
   ]
  },
  {
   "cell_type": "code",
   "execution_count": 15,
   "metadata": {},
   "outputs": [
    {
     "data": {
      "text/plain": [
       "134    174.565344\n",
       "Name: percentage, dtype: float64"
      ]
     },
     "execution_count": 15,
     "metadata": {},
     "output_type": "execute_result"
    }
   ],
   "source": [
    "merged[merged['name']=='Russia']['percentage']"
   ]
  },
  {
   "cell_type": "code",
   "execution_count": null,
   "metadata": {},
   "outputs": [],
   "source": []
  },
  {
   "cell_type": "code",
   "execution_count": 16,
   "metadata": {},
   "outputs": [
    {
     "data": {
      "text/html": [
       "Displaying chart at <a href='http://localhost:23387/' target='_blank'>http://localhost:23387/</a>"
      ],
      "text/plain": [
       "Displaying chart at http://localhost:23387/"
      ]
     },
     "execution_count": 16,
     "metadata": {},
     "output_type": "execute_result"
    }
   ],
   "source": [
    "alt.Chart(world).project(type = 'equalEarth').mark_geoshape(fill = 'lightgray', stroke = 'white').encode(\n",
    "    tooltip = [\n",
    "        alt.Tooltip('name:N'),\n",
    "        alt.Tooltip('id:N')\n",
    "    ]\n",
    ").properties(width = 950, height = 500, background = '#F9F9F9', padding = 25)"
   ]
  },
  {
   "cell_type": "markdown",
   "metadata": {},
   "source": [
    "# Task 1\n",
    "\n",
    "Кольорова гама у цьому випадку була обрана з метою простішого зчитування : зелений колір асоціюється з позитивною відповіддю, помаранчевий -- з негативною, сірий -- у разі якщо немає даних. "
   ]
  },
  {
   "cell_type": "code",
   "execution_count": 24,
   "metadata": {},
   "outputs": [
    {
     "data": {
      "text/html": [
       "Displaying chart at <a href='http://localhost:23387/' target='_blank'>http://localhost:23387/</a>"
      ],
      "text/plain": [
       "Displaying chart at http://localhost:23387/"
      ]
     },
     "execution_count": 24,
     "metadata": {},
     "output_type": "execute_result"
    }
   ],
   "source": [
    "\n",
    "range_ = ['#DCDCDC', 'FF9933','4D9900']\n",
    "\n",
    "\n",
    "alt.Chart(merged, title='Population trends in 2100 in comparison to 2000').project(type = 'equalEarth').mark_geoshape().encode(\n",
    "    color = alt.Color('indicator:O', title='Is population more than in 2000?', \n",
    "            scale=alt.Scale(range=range_)),\n",
    "    tooltip = [\n",
    "        alt.Tooltip('name:N'),\n",
    "        alt.Tooltip('text_indicator:O', title='Is population more than in 2000?')\n",
    "    ]\n",
    ").properties(width = 950, height = 500, background = '#F9F9F9', padding = 25).configure_title(fontSize=20)"
   ]
  },
  {
   "cell_type": "markdown",
   "metadata": {},
   "source": [
    "# Task 2\n",
    "Кольорова гама була обрана згідно з інтуіцією -- холодні кольори асоціюються зі зниженням, а теплі -- зі зростанням, відповідний був і вибір кольорової гами."
   ]
  },
  {
   "cell_type": "code",
   "execution_count": 30,
   "metadata": {},
   "outputs": [
    {
     "data": {
      "text/html": [
       "Displaying chart at <a href='http://localhost:23387/' target='_blank'>http://localhost:23387/</a>"
      ],
      "text/plain": [
       "Displaying chart at http://localhost:23387/"
      ]
     },
     "execution_count": 30,
     "metadata": {},
     "output_type": "execute_result"
    }
   ],
   "source": [
    "alt.Chart(merged, title='Percentage change in population in 2100 compared to 2000').project(type = 'equalEarth').mark_geoshape().encode(\n",
    "    color = alt.Color('percentage:Q', title='Percentage change',\n",
    "          scale = alt.Scale(scheme = 'spectral', reverse = True)),\n",
    "    tooltip = [\n",
    "        alt.Tooltip('name:N'), \n",
    "        alt.Tooltip('text_percentage:O', title='Change in population')\n",
    "    ]\n",
    ").properties(width = 950, height = 500, background = '#F9F9F9', padding = 25).configure_title(fontSize=20)"
   ]
  },
  {
   "cell_type": "markdown",
   "metadata": {},
   "source": [
    "# Task 3\n",
    "\n",
    "В даному завданні я обрала кольору палітру однієї гами для того, щоб користувачу було легше порівнят "
   ]
  },
  {
   "cell_type": "code",
   "execution_count": 33,
   "metadata": {},
   "outputs": [
    {
     "data": {
      "text/html": [
       "Displaying chart at <a href='http://localhost:23387/' target='_blank'>http://localhost:23387/</a>"
      ],
      "text/plain": [
       "Displaying chart at http://localhost:23387/"
      ]
     },
     "execution_count": 33,
     "metadata": {},
     "output_type": "execute_result"
    }
   ],
   "source": [
    "alt.Chart(merged, title='Predicted population of Earth in 2100').project(type = 'equalEarth').mark_geoshape().encode(\n",
    "    color = alt.Color('in_2100:Q', title='Population number',\n",
    "          scale = alt.Scale(scheme = 'orangered')\n",
    "                     ),\n",
    "    tooltip = [\n",
    "        alt.Tooltip('name:N'), \n",
    "        alt.Tooltip('text_2100:O', title='Population')\n",
    "    ]\n",
    ").properties(width = 950, height = 500, background = '#F9F9F9', padding = 25).configure_title(fontSize=20)"
   ]
  },
  {
   "cell_type": "code",
   "execution_count": null,
   "metadata": {},
   "outputs": [],
   "source": []
  },
  {
   "cell_type": "code",
   "execution_count": null,
   "metadata": {},
   "outputs": [],
   "source": []
  },
  {
   "cell_type": "code",
   "execution_count": null,
   "metadata": {},
   "outputs": [],
   "source": []
  },
  {
   "cell_type": "code",
   "execution_count": null,
   "metadata": {},
   "outputs": [],
   "source": []
  }
 ],
 "metadata": {
  "kernelspec": {
   "display_name": "Python 3",
   "language": "python",
   "name": "python3"
  },
  "language_info": {
   "codemirror_mode": {
    "name": "ipython",
    "version": 3
   },
   "file_extension": ".py",
   "mimetype": "text/x-python",
   "name": "python",
   "nbconvert_exporter": "python",
   "pygments_lexer": "ipython3",
   "version": "3.8.3"
  }
 },
 "nbformat": 4,
 "nbformat_minor": 4
}
